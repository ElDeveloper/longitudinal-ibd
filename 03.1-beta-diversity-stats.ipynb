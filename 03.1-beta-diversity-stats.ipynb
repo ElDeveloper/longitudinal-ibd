{
 "cells": [
  {
   "cell_type": "markdown",
   "metadata": {},
   "source": [
    "## ANOSIM and Permanova by ibd - Unweighted UniFrac"
   ]
  },
  {
   "cell_type": "code",
   "execution_count": 1,
   "metadata": {
    "collapsed": false
   },
   "outputs": [],
   "source": [
    "!compare_categories.py -i analysis/beta/unweighted_unifrac_dm.txt \\\n",
    "-m mapping-file.alpha.txt \\\n",
    "-c ibd -o analysis/beta/anosim-unweighted-ibd --method anosim\n",
    "\n",
    "!compare_categories.py -i analysis/beta/unweighted_unifrac_dm.txt \\\n",
    "-m mapping-file.alpha.txt \\\n",
    "-c ibd -o analysis/beta/permanova-unweighted-ibd --method permanova"
   ]
  },
  {
   "cell_type": "markdown",
   "metadata": {},
   "source": [
    "## ANOSIM and Permanova by ibd - Weighted UniFrac"
   ]
  },
  {
   "cell_type": "code",
   "execution_count": 2,
   "metadata": {
    "collapsed": true
   },
   "outputs": [],
   "source": [
    "!compare_categories.py -i analysis/beta/weighted_unifrac_dm.txt \\\n",
    "-m mapping-file.alpha.txt \\\n",
    "-c ibd -o analysis/beta/anosim-weighted-ibd --method anosim\n",
    "\n",
    "!compare_categories.py -i analysis/beta/weighted_unifrac_dm.txt \\\n",
    "-m mapping-file.alpha.txt \\\n",
    "-c ibd -o analysis/beta/permanova-weighted-ibd --method permanova"
   ]
  },
  {
   "cell_type": "markdown",
   "metadata": {},
   "source": [
    "## ANOSIM by host_subject_id - Weighted UniFrac and Unweighted UniFrac"
   ]
  },
  {
   "cell_type": "code",
   "execution_count": 3,
   "metadata": {
    "collapsed": true
   },
   "outputs": [],
   "source": [
    "!compare_categories.py -i analysis/beta/unweighted_unifrac_dm.txt \\\n",
    "-m mapping-file.alpha.txt \\\n",
    "-c host_subject_id -o analysis/beta/anosim-unweighted-host_subject_id --method anosim\n",
    "\n",
    "!compare_categories.py -i analysis/beta/unweighted_unifrac_dm.txt \\\n",
    "-m mapping-file.alpha.txt \\\n",
    "-c host_subject_id -o analysis/beta/permanova-unweighted-host_subject_id --method permanova\n",
    "\n",
    "!compare_categories.py -i analysis/beta/weighted_unifrac_dm.txt \\\n",
    "-m mapping-file.alpha.txt \\\n",
    "-c host_subject_id -o analysis/beta/anosim-weighted-host_subject_id --method anosim\n",
    "\n",
    "!compare_categories.py -i analysis/beta/weighted_unifrac_dm.txt \\\n",
    "-m mapping-file.alpha.txt \\\n",
    "-c host_subject_id -o analysis/beta/permanova-weighted-host_subject_id --method permanova"
   ]
  },
  {
   "cell_type": "markdown",
   "metadata": {},
   "source": [
    "# Beta Diversity Plots\n",
    "\n",
    "Adding unique columns."
   ]
  },
  {
   "cell_type": "code",
   "execution_count": 4,
   "metadata": {
    "collapsed": true
   },
   "outputs": [],
   "source": [
    "!make_emperor.py -i analysis/beta/unweighted_unifrac_pc.txt \\\n",
    "-m mapping-file.alpha.txt \\\n",
    "-o analysis/beta/unweighted_unifrac_emperor_pcoa_plot/ \\\n",
    "--add_unique_columns\n",
    "\n",
    "!make_emperor.py -i analysis/beta/weighted_unifrac_pc.txt \\\n",
    "-m mapping-file.alpha.txt \\\n",
    "-o analysis/beta/weighted_unifrac_emperor_pcoa_plot/ \\\n",
    "--add_unique_columns"
   ]
  },
  {
   "cell_type": "markdown",
   "metadata": {},
   "source": [
    "### Vectors"
   ]
  },
  {
   "cell_type": "code",
   "execution_count": null,
   "metadata": {
    "collapsed": false,
    "scrolled": false
   },
   "outputs": [],
   "source": [
    "!make_emperor.py -i analysis/beta/unweighted_unifrac_pc.txt \\\n",
    "-m mapping-file.alpha.txt \\\n",
    "-o analysis/beta/unweighted_unifrac_emperor_pcoa_plot_vectors/ \\\n",
    "--add_unique_columns --add_vectors 'host_subject_id,days_since_epoch'\n",
    "\n",
    "!make_emperor.py -i analysis/beta/weighted_unifrac_pc.txt \\\n",
    "-m mapping-file.alpha.txt \\\n",
    "-o analysis/beta/weighted_unifrac_emperor_pcoa_plot_vectors/ \\\n",
    "--add_unique_columns --add_vectors 'host_subject_id,days_since_epoch'"
   ]
  },
  {
   "cell_type": "code",
   "execution_count": null,
   "metadata": {
    "collapsed": true
   },
   "outputs": [],
   "source": []
  }
 ],
 "metadata": {
  "kernelspec": {
   "display_name": "Python 2",
   "language": "python",
   "name": "python2"
  },
  "language_info": {
   "codemirror_mode": {
    "name": "ipython",
    "version": 2
   },
   "file_extension": ".py",
   "mimetype": "text/x-python",
   "name": "python",
   "nbconvert_exporter": "python",
   "pygments_lexer": "ipython2",
   "version": "2.7.12"
  }
 },
 "nbformat": 4,
 "nbformat_minor": 0
}
