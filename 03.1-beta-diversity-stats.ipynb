{
 "cells": [
  {
   "cell_type": "code",
   "execution_count": 1,
   "metadata": {
    "collapsed": false
   },
   "outputs": [],
   "source": [
    "%matplotlib inline\n",
    "from __future__ import division\n",
    "\n",
    "from qiime.parse import parse_mapping_file\n",
    "from qiime.format import format_mapping_file\n",
    "from skbio.io.util import open_file\n",
    "from itertools import product\n",
    "from os.path import join\n",
    "from biom import load_table\n",
    "\n",
    "import pandas as pd\n",
    "import numpy as np\n",
    "import seaborn as sns\n",
    "import matplotlib.pyplot as plt\n",
    "\n",
    "sns.set_style('whitegrid')\n",
    "sns.set_context(\"paper\")\n",
    "\n",
    "def load_mf(fn):\n",
    "    with open_file(fn, 'U') as f:\n",
    "        mapping_data, header, _ = parse_mapping_file(f)\n",
    "        _mapping_file = pd.DataFrame(mapping_data, columns=header)\n",
    "        _mapping_file.set_index('SampleID', inplace=True)\n",
    "    return _mapping_file\n",
    "\n",
    "def write_mf(f, _df):\n",
    "    with open_file(f, 'w') as fp:\n",
    "        lines = format_mapping_file(['SampleID'] + _df.columns.tolist(),\n",
    "                                    list(_df.itertuples()))\n",
    "        fp.write(lines+'\\n')"
   ]
  },
  {
   "cell_type": "markdown",
   "metadata": {},
   "source": [
    "## ANOSIM and Permanova by IBD - Unweighted UniFrac"
   ]
  },
  {
   "cell_type": "code",
   "execution_count": 3,
   "metadata": {
    "collapsed": false
   },
   "outputs": [],
   "source": [
    "!compare_categories.py -i analysis/beta/unweighted_unifrac_dm.txt \\\n",
    "-m metadata-2/mapping_file.fixed.alpha.cleaned.cleaned.txt \\\n",
    "-c IBD -o analysis/beta/anosim-unweighted-IBD --method anosim\n",
    "\n",
    "!compare_categories.py -i analysis/beta/unweighted_unifrac_dm.txt \\\n",
    "-m metadata-2/mapping_file.fixed.alpha.cleaned.cleaned.txt \\\n",
    "-c IBD -o analysis/beta/permanova-unweighted-IBD --method permanova"
   ]
  },
  {
   "cell_type": "markdown",
   "metadata": {},
   "source": [
    "## ANOSIM and Permanova by IBD - Weighted UniFrac"
   ]
  },
  {
   "cell_type": "code",
   "execution_count": 4,
   "metadata": {
    "collapsed": true
   },
   "outputs": [],
   "source": [
    "!compare_categories.py -i analysis/beta/weighted_unifrac_dm.txt \\\n",
    "-m metadata-2/mapping_file.fixed.alpha.cleaned.cleaned.txt \\\n",
    "-c IBD -o analysis/beta/anosim-weighted-IBD --method anosim\n",
    "\n",
    "!compare_categories.py -i analysis/beta/weighted_unifrac_dm.txt \\\n",
    "-m metadata-2/mapping_file.fixed.alpha.cleaned.cleaned.txt \\\n",
    "-c IBD -o analysis/beta/permanova-weighted-IBD --method permanova"
   ]
  },
  {
   "cell_type": "markdown",
   "metadata": {},
   "source": [
    "## ANOSIM by HOST_SUBJECT_ID - Weighted UniFrac and Unweighted UniFrac"
   ]
  },
  {
   "cell_type": "code",
   "execution_count": 5,
   "metadata": {
    "collapsed": true
   },
   "outputs": [],
   "source": [
    "!compare_categories.py -i analysis/beta/unweighted_unifrac_dm.txt \\\n",
    "-m metadata-2/mapping_file.fixed.alpha.cleaned.cleaned.txt \\\n",
    "-c HOST_SUBJECT_ID -o analysis/beta/anosim-unweighted-HOST_SUBJECT_ID --method anosim\n",
    "\n",
    "!compare_categories.py -i analysis/beta/unweighted_unifrac_dm.txt \\\n",
    "-m metadata-2/mapping_file.fixed.alpha.cleaned.cleaned.txt \\\n",
    "-c HOST_SUBJECT_ID -o analysis/beta/permanova-unweighted-HOST_SUBJECT_ID --method permanova\n",
    "\n",
    "!compare_categories.py -i analysis/beta/weighted_unifrac_dm.txt \\\n",
    "-m metadata-2/mapping_file.fixed.alpha.cleaned.cleaned.txt \\\n",
    "-c HOST_SUBJECT_ID -o analysis/beta/anosim-weighted-HOST_SUBJECT_ID --method anosim\n",
    "\n",
    "!compare_categories.py -i analysis/beta/weighted_unifrac_dm.txt \\\n",
    "-m metadata-2/mapping_file.fixed.alpha.cleaned.cleaned.txt \\\n",
    "-c HOST_SUBJECT_ID -o analysis/beta/permanova-weighted-HOST_SUBJECT_ID --method permanova"
   ]
  },
  {
   "cell_type": "markdown",
   "metadata": {},
   "source": [
    "# Beta Diversity Plots"
   ]
  },
  {
   "cell_type": "code",
   "execution_count": 6,
   "metadata": {
    "collapsed": true
   },
   "outputs": [],
   "source": [
    "!make_emperor.py -i analysis/beta/unweighted_unifrac_pc.txt \\\n",
    "-m metadata-2/mapping_file.fixed.alpha.cleaned.cleaned.txt \\\n",
    "-o analysis/beta/unweighted_unifrac_emperor_pcoa_plot/ \\\n",
    "--add_unique_columns\n",
    "\n",
    "!make_emperor.py -i analysis/beta/weighted_unifrac_pc.txt \\\n",
    "-m metadata-2/mapping_file.fixed.alpha.cleaned.cleaned.txt \\\n",
    "-o analysis/beta/weighted_unifrac_emperor_pcoa_plot/ \\\n",
    "--add_unique_columns"
   ]
  },
  {
   "cell_type": "markdown",
   "metadata": {},
   "source": [
    "### Vectors"
   ]
  },
  {
   "cell_type": "code",
   "execution_count": 7,
   "metadata": {
    "collapsed": false,
    "scrolled": false
   },
   "outputs": [],
   "source": [
    "!make_emperor.py -i analysis/beta/unweighted_unifrac_pc.txt \\\n",
    "-m metadata-2/mapping_file.fixed.alpha.cleaned.cleaned.with_dse.txt \\\n",
    "-o analysis/beta/unweighted_unifrac_emperor_pcoa_plot_vectors/ \\\n",
    "--add_unique_columns --add_vectors 'HOST_SUBJECT_ID,DAYS_SINCE_EPOCH'\n",
    "\n",
    "!make_emperor.py -i analysis/beta/weighted_unifrac_pc.txt \\\n",
    "-m metadata-2/mapping_file.fixed.alpha.cleaned.cleaned.with_dse.txt \\\n",
    "-o analysis/beta/weighted_unifrac_emperor_pcoa_plot_vectors/ \\\n",
    "--add_unique_columns --add_vectors 'HOST_SUBJECT_ID,DAYS_SINCE_EPOCH'"
   ]
  }
 ],
 "metadata": {
  "kernelspec": {
   "display_name": "Python 3",
   "language": "python",
   "name": "python3"
  },
  "language_info": {
   "codemirror_mode": {
    "name": "ipython",
    "version": 3
   },
   "file_extension": ".py",
   "mimetype": "text/x-python",
   "name": "python",
   "nbconvert_exporter": "python",
   "pygments_lexer": "ipython3",
   "version": "3.5.2"
  }
 },
 "nbformat": 4,
 "nbformat_minor": 0
}
