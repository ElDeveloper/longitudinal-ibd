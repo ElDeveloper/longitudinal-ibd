{
 "cells": [
  {
   "cell_type": "markdown",
   "metadata": {},
   "source": [
    "The data is downloaded from [Qiita study 2538](https://qiita.ucsd.edu/study/description/2538):\n",
    "    \n",
    "- `mapping-file.txt` is downloaded from the only 16S artifact.\n",
    "- `otu_table.biom`, note these OTUs are from sequences trimmed at 100 nucleotides. Picked closed reference 97%."
   ]
  },
  {
   "cell_type": "markdown",
   "metadata": {},
   "source": [
    "Let's get rid of blank samples, we don't use them for any of the analyses."
   ]
  },
  {
   "cell_type": "code",
   "execution_count": 2,
   "metadata": {
    "collapsed": false
   },
   "outputs": [],
   "source": [
    "!filter_samples_from_otu_table.py -i otu_table.biom \\\n",
    "-m mapping-file.txt \\\n",
    "-s 'sample_type:stool' \\\n",
    "-o otu-table.noblanks.biom"
   ]
  },
  {
   "cell_type": "markdown",
   "metadata": {},
   "source": [
    "Calculate alpha diversity for a couple metrics and then we'll add this to the mapping file"
   ]
  },
  {
   "cell_type": "code",
   "execution_count": 3,
   "metadata": {
    "collapsed": true
   },
   "outputs": [],
   "source": [
    "mkdir -p analysis/alpha"
   ]
  },
  {
   "cell_type": "code",
   "execution_count": 5,
   "metadata": {
    "collapsed": true
   },
   "outputs": [],
   "source": [
    "!echo \"make_rarefaction_plots:colorby illumina_technology\" > analysis/alpha-params.txt\n",
    "!echo \"alpha_diversity:metrics shannon,PD_whole_tree,chao1,observed_species\" >> analysis/alpha-params.txt"
   ]
  },
  {
   "cell_type": "code",
   "execution_count": 6,
   "metadata": {
    "collapsed": true
   },
   "outputs": [],
   "source": [
    "!alpha_rarefaction.py \\\n",
    "-i otu-table.noblanks.biom \\\n",
    "-m mapping-file.txt \\\n",
    "-o analysis/alpha \\\n",
    "-n 10 \\\n",
    "--min_rare_depth 500 \\\n",
    "-e 12000 \\\n",
    "-t gg-tree/97_otus.tree \\\n",
    "--retain_intermediate_files \\\n",
    "-p analysis/alpha-params.txt -f"
   ]
  },
  {
   "cell_type": "code",
   "execution_count": 7,
   "metadata": {
    "collapsed": true
   },
   "outputs": [],
   "source": [
    "!add_alpha_to_mapping_file.py \\\n",
    "-i analysis/alpha/alpha_div_collated/PD_whole_tree.txt,\\\n",
    "analysis/alpha/alpha_div_collated/shannon.txt,\\\n",
    "analysis/alpha/alpha_div_collated/chao1.txt,\\\n",
    "analysis/alpha/alpha_div_collated/observed_species.txt \\\n",
    "-m mapping-file.txt \\\n",
    "--depth 7400 \\\n",
    "--collated_input \\\n",
    "--binning_method quantile \\\n",
    "-x NA \\\n",
    "-b 4 \\\n",
    "-o mapping-file.alpha.txt"
   ]
  },
  {
   "cell_type": "code",
   "execution_count": 10,
   "metadata": {
    "collapsed": false
   },
   "outputs": [],
   "source": [
    "cp analysis/alpha/rarefaction/rarefaction_7400_0.biom otu-table.noblanks.even.7400.biom"
   ]
  },
  {
   "cell_type": "code",
   "execution_count": 11,
   "metadata": {
    "collapsed": true
   },
   "outputs": [],
   "source": [
    "!echo \"make_emperor:verbose True\" > analysis/beta-params.txt"
   ]
  },
  {
   "cell_type": "code",
   "execution_count": 12,
   "metadata": {
    "collapsed": false
   },
   "outputs": [
    {
     "name": "stdout",
     "output_type": "stream",
     "text": [
      "/Users/yoshikivazquezbaeza/miniconda/envs/qiime-191/lib/python2.7/site-packages/skbio/stats/ordination/_principal_coordinate_analysis.py:107: RuntimeWarning: The result contains negative eigenvalues. Please compare their magnitude with the magnitude of some of the largest positive eigenvalues. If the negative ones are smaller, it's probably safe to ignore them, but if they are large in magnitude, the results won't be useful. See the Notes section for more details. The smallest eigenvalue is -2.14739103621 and the largest is 55.2500741976.\n",
      "  RuntimeWarning\n",
      "/Users/yoshikivazquezbaeza/miniconda/envs/qiime-191/lib/python2.7/site-packages/skbio/stats/ordination/_principal_coordinate_analysis.py:107: RuntimeWarning: The result contains negative eigenvalues. Please compare their magnitude with the magnitude of some of the largest positive eigenvalues. If the negative ones are smaller, it's probably safe to ignore them, but if they are large in magnitude, the results won't be useful. See the Notes section for more details. The smallest eigenvalue is -0.0408315093081 and the largest is 21.8434201167.\n",
      "  RuntimeWarning\n"
     ]
    }
   ],
   "source": [
    "!beta_diversity_through_plots.py \\\n",
    "-i otu-table.noblanks.biom \\\n",
    "-m mapping-file.alpha.txt \\\n",
    "-o analysis/beta \\\n",
    "-e 7400 \\\n",
    "-t gg-tree/97_otus.tree \\\n",
    "-p analysis/beta-params.txt\n",
    "#-a -O 4 -f"
   ]
  },
  {
   "cell_type": "code",
   "execution_count": null,
   "metadata": {
    "collapsed": true
   },
   "outputs": [],
   "source": []
  }
 ],
 "metadata": {
  "kernelspec": {
   "display_name": "Python 2",
   "language": "python",
   "name": "python2"
  },
  "language_info": {
   "codemirror_mode": {
    "name": "ipython",
    "version": 2
   },
   "file_extension": ".py",
   "mimetype": "text/x-python",
   "name": "python",
   "nbconvert_exporter": "python",
   "pygments_lexer": "ipython2",
   "version": "2.7.12"
  }
 },
 "nbformat": 4,
 "nbformat_minor": 0
}
