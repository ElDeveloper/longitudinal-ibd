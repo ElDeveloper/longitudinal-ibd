{
 "cells": [
  {
   "cell_type": "code",
   "execution_count": null,
   "metadata": {
    "collapsed": false
   },
   "outputs": [],
   "source": [
    "%matplotlib inline\n",
    "from __future__ import division\n",
    "\n",
    "from qiime.parse import parse_mapping_file\n",
    "from qiime.format import format_mapping_file\n",
    "from skbio.io.util import open_file\n",
    "from itertools import product\n",
    "from os.path import join\n",
    "from biom import load_table\n",
    "\n",
    "import pandas as pd\n",
    "import numpy as np\n",
    "import seaborn as sns\n",
    "import matplotlib.pyplot as plt\n",
    "\n",
    "plt.style.use('ggplot')\n",
    "\n",
    "def load_mf(fn):\n",
    "    with open_file(fn, 'U') as f:\n",
    "        mapping_data, header, _ = parse_mapping_file(f)\n",
    "        _mapping_file = pd.DataFrame(mapping_data, columns=header)\n",
    "        _mapping_file.set_index('SampleID', inplace=True)\n",
    "    return _mapping_file\n",
    "\n",
    "def write_mf(f, _df):\n",
    "    with open_file(f, 'w') as fp:\n",
    "        lines = format_mapping_file(['SampleID'] + _df.columns.tolist(),\n",
    "                                    list(_df.itertuples()))\n",
    "        fp.write(lines+'\\n')"
   ]
  },
  {
   "cell_type": "code",
   "execution_count": null,
   "metadata": {
    "collapsed": false
   },
   "outputs": [],
   "source": [
    "from qiime.util import compute_days_since_epoch\n",
    "\n",
    "mf = load_mf('metadata-2/mapping_file.fixed.alpha.cleaned.txt')\n",
    "bt = load_table('analysis/beta/otu_table.ids.nocontaminants.noblanks_even7400.biom')\n",
    "\n",
    "# mf = mf.loc[bt.ids()]\n",
    "\n",
    "mf.SURGERY.replace({'ileocecal resection': 'Yes', 'colonresection, ileorectal anastomosis': 'Yes',\n",
    "                    'small bowelbowel resections(2x)': 'Yes', 'Ileocolectomy': 'Yes',\n",
    "                    'Ilececal and ileal resection': 'Yes', 'Ilecectomy': 'Yes'}, inplace=True)\n",
    "\n",
    "def funk(line):\n",
    "    if line['IBD'] == 'Crohns' and line['SURGERY'] == 'No':\n",
    "        return 'Crohns'\n",
    "    elif line['IBD'] == 'Crohns' and line['SURGERY'] == 'Yes':\n",
    "        return 'Crohns (surgery)'\n",
    "    # We checked with Hans and none of the patients that were reported as\n",
    "    # NA had surgery, so this can be considered as NO surgery\n",
    "    elif line['IBD'] == 'Crohns' and line['SURGERY'] == 'NA':\n",
    "        return 'Crohns'\n",
    "    elif line['IBD'] == 'Healthy Controls' and line['SURGERY'] == 'NA':\n",
    "        return 'Controls'\n",
    "    else:\n",
    "        raise ValueError('Something bad happened')\n",
    "\n",
    "mf['SURGERY_AND_IBD'] = mf.apply(funk, axis=1, reduce=False)\n",
    "\n",
    "def funk(line):\n",
    "    if '-' in line['Description']:\n",
    "        return str(int(line['Description'].split('-')[-1]))\n",
    "    else:\n",
    "        return 'Index subject without family members'\n",
    "\n",
    "mf['FAMILY_NUMBER'] = mf.apply(funk, axis=1, reduce=False)\n",
    "\n",
    "# Hans was able to confirm that none of these subjects underwent surgery\n",
    "mf['SURGERY'].replace({'NA': 'No'})\n",
    "\n",
    "# add a days since epoch column\n",
    "x = []\n",
    "for d in mf.COLLECTION_DATE:\n",
    "    if '/' in d:\n",
    "        mo, da, ye = d.split('/')\n",
    "        value = compute_days_since_epoch(da, mo, '20'+ye)\n",
    "    else:\n",
    "        value = np.nan\n",
    "    x.append(value)\n",
    "\n",
    "# make sure we have the right number of rows\n",
    "assert len(x) == len(mf)\n",
    "mf['DAYS_SINCE_EPOCH'] = np.array(x).astype(str)\n",
    "\n",
    "write_mf('metadata-2/mapping_file.fixed.alpha.cleaned.cleaned.txt', mf)"
   ]
  },
  {
   "cell_type": "code",
   "execution_count": null,
   "metadata": {
    "collapsed": true
   },
   "outputs": [],
   "source": []
  }
 ],
 "metadata": {
  "kernelspec": {
   "display_name": "Python 2",
   "language": "python",
   "name": "python2"
  },
  "language_info": {
   "codemirror_mode": {
    "name": "ipython",
    "version": 2
   },
   "file_extension": ".py",
   "mimetype": "text/x-python",
   "name": "python",
   "nbconvert_exporter": "python",
   "pygments_lexer": "ipython2",
   "version": "2.7.12"
  }
 },
 "nbformat": 4,
 "nbformat_minor": 0
}
