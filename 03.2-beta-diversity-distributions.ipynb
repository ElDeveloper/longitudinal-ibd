{
 "cells": [
  {
   "cell_type": "code",
   "execution_count": 3,
   "metadata": {
    "collapsed": false
   },
   "outputs": [],
   "source": [
    "%matplotlib inline\n",
    "from __future__ import division\n",
    "\n",
    "from qiime.parse import parse_mapping_file\n",
    "from qiime.format import format_mapping_file\n",
    "from skbio.io.util import open_file\n",
    "from itertools import product\n",
    "from os.path import join\n",
    "from biom import load_table\n",
    "\n",
    "import pandas as pd\n",
    "import numpy as np\n",
    "import seaborn as sns\n",
    "import matplotlib.pyplot as plt\n",
    "\n",
    "sns.set_style('whitegrid')\n",
    "sns.set_context(\"poster\")\n",
    "\n",
    "def load_mf(fn):\n",
    "    with open_file(fn, 'U') as f:\n",
    "        mapping_data, header, _ = parse_mapping_file(f)\n",
    "        _mapping_file = pd.DataFrame(mapping_data, columns=header)\n",
    "        _mapping_file.set_index('SampleID', inplace=True)\n",
    "    return _mapping_file\n",
    "\n",
    "def write_mf(f, _df):\n",
    "    with open_file(f, 'w') as fp:\n",
    "        lines = format_mapping_file(['SampleID'] + _df.columns.tolist(),\n",
    "                                    list(_df.itertuples()))\n",
    "        fp.write(lines+'\\n')"
   ]
  },
  {
   "cell_type": "code",
   "execution_count": 4,
   "metadata": {
    "collapsed": true
   },
   "outputs": [],
   "source": [
    "# Mathematica's default color list\n",
    "colors = [(0.368417,0.506779,0.709798),\n",
    "          (0.880722,0.611041,0.142051),\n",
    "          (0.560181,0.691569,0.194885),\n",
    "          (0.922526,0.385626,0.209179),\n",
    "          (0.528488,0.470624,0.701351),\n",
    "          (0.772079,0.431554,0.102387),\n",
    "          (0.363898,0.618501,0.782349),\n",
    "          (1,0.75,0),\n",
    "          (0.647624,0.37816,0.614037),\n",
    "          (0.571589,0.586483,0.),\n",
    "          (0.915,0.3325,0.2125),\n",
    "          (0.400822,0.522007,0.85),\n",
    "          (0.972829,0.621644,0.073362),\n",
    "          (0.736783,0.358,0.503027),\n",
    "          (0.280264,0.715,0.429209)]\n",
    "sns.set_palette(colors)"
   ]
  },
  {
   "cell_type": "markdown",
   "metadata": {},
   "source": [
    "# Temporal Dynamics"
   ]
  },
  {
   "cell_type": "code",
   "execution_count": 5,
   "metadata": {
    "collapsed": true
   },
   "outputs": [],
   "source": [
    "from collections import defaultdict\n",
    "\n",
    "import pandas as pd\n",
    "\n",
    "def distances_and_labels_from_data(dm, df, patient_category='PATIENT_NUMBER',\n",
    "                                   timepoint_category='TIMEPOINT_NUMBER',\n",
    "                                   interest_category='IBD_TYPE'):\n",
    "    \"\"\"Return a list of lists of distances and the corresponding labels\"\"\"\n",
    "\n",
    "    diff_ibd = defaultdict(list)\n",
    "\n",
    "    output = pd.Series(index=df.index)\n",
    "    \n",
    "    for patient in df[patient_category].unique():\n",
    "        # create a patient data frame\n",
    "        patient_df = df[df[patient_category] == patient]\n",
    "\n",
    "        # retrieve the sorted list of sample idenifiers\n",
    "        sorted_ids = patient_df.sort(timepoint_category).index.tolist()\n",
    "\n",
    "        # we are assuming all have the same value as\n",
    "        # patients shouldn't change their IBD_TYPE\n",
    "        ibd_type = patient_df[interest_category][0]\n",
    "\n",
    "        # we go to len - 1 to account for the fact that\n",
    "        # the first difference returns a series of N-1 length \n",
    "        for idx in range(len(sorted_ids)-1):\n",
    "            a = patient_df.loc[sorted_ids[idx]][timepoint_category]\n",
    "            b = patient_df.loc[sorted_ids[idx+1]][timepoint_category]\n",
    "            # only day-to-day distances\n",
    "            if (b-a) != 1:\n",
    "                continue\n",
    "                \n",
    "            # get the distance between the timepoints from the distance matrix\n",
    "            the_distance = dm[sorted_ids[idx], sorted_ids[idx+1]]\n",
    "            diff_ibd[ibd_type].append(the_distance)\n",
    "            output.loc[sorted_ids[idx]] = the_distance\n",
    "\n",
    "    # defaultdicts are the devil cast to a regular dict\n",
    "    diff_ibd = dict(diff_ibd)\n",
    "    \n",
    "    # put this into a format boxplots can understand\n",
    "    dists, labels = [], []\n",
    "    for k, v in diff_ibd.iteritems():\n",
    "        labels.append(k)\n",
    "        dists.append(np.asarray(v))\n",
    "    \n",
    "    return dists, labels, output\n",
    "\n",
    "def format_latex(n):\n",
    "    \"\"\"Format a number ready for scientific notation in latex\"\"\"\n",
    "    \n",
    "    if n > 0.01:\n",
    "        return str(n)\n",
    "    \n",
    "    val = r'%e' % n\n",
    "    val = val.replace('e', r'x10^{')+'}'\n",
    "    return val"
   ]
  },
  {
   "cell_type": "code",
   "execution_count": 6,
   "metadata": {
    "collapsed": false
   },
   "outputs": [
    {
     "name": "stdout",
     "output_type": "stream",
     "text": [
      "Weighted UniFrac\n",
      "Controls vs Crohns p=0.000932 u=33349.000000\n",
      "Controls vs Crohns (surgery) p=0.064836 u=25145.000000\n",
      "Unweighted UniFrac\n",
      "Controls vs Crohns p=0.000144 u=32337.000000\n",
      "Controls vs Crohns (surgery) p=0.000000 u=18369.000000\n"
     ]
    }
   ],
   "source": [
    "import pandas as pd\n",
    "import numpy as np\n",
    "import seaborn as sns\n",
    "\n",
    "from os.path import join\n",
    "from skbio import DistanceMatrix\n",
    "from scipy.stats import mannwhitneyu\n",
    "\n",
    "from collections import defaultdict\n",
    "\n",
    "\n",
    "mf = load_mf('metadata-2/mapping_file.fixed.alpha.cleaned.cleaned.txt')\n",
    "mf['DAYS_SINCE_EPOCH'] = mf['DAYS_SINCE_EPOCH'].astype(np.float)\n",
    "\n",
    "!mkdir -p 'analysis/beta/distributions-ibd-and-surgery/'\n",
    "path = 'analysis/beta/distributions-ibd-and-surgery/'\n",
    "\n",
    "# LOAD AS A CONVENIENCE\n",
    "dm = DistanceMatrix.from_file('analysis/beta/unweighted_unifrac_dm.txt')\n",
    "\n",
    "# cast to list because the tuple doesn't quite work\n",
    "mf = mf.loc[list(dm.ids)]\n",
    "\n",
    "filenames = ['analysis/beta/weighted_unifrac_dm.txt',\n",
    "             'analysis/beta/unweighted_unifrac_dm.txt']\n",
    "ylabels = ['Weighted UniFrac', 'Unweighted UniFrac']\n",
    "\n",
    "for i in range(2):\n",
    "    dm = DistanceMatrix.from_file(filenames[i])\n",
    "    d, l, s = distances_and_labels_from_data(dm, mf, 'HOST_SUBJECT_ID',\n",
    "                                             'DAYS_SINCE_EPOCH', 'SURGERY_AND_IBD')\n",
    "\n",
    "    mf[ylabels[i] + ' timepoint distance'] = s\n",
    "\n",
    "    # generate the stats\n",
    "    print ylabels[i]\n",
    "    base = 'Controls'\n",
    "    for cat in mf.SURGERY_AND_IBD.unique():\n",
    "        if cat != base:\n",
    "            u, p = mannwhitneyu(mf[mf['SURGERY_AND_IBD'] == base][ylabels[i] + ' timepoint distance'],\n",
    "                                mf[mf['SURGERY_AND_IBD'] == cat][ylabels[i] + ' timepoint distance'])\n",
    "            print 'Controls vs %s p=%f u=%f' % (cat, p, u)"
   ]
  },
  {
   "cell_type": "code",
   "execution_count": 12,
   "metadata": {
    "collapsed": false
   },
   "outputs": [
    {
     "data": {
      "image/png": "[encoded data removed]",
      "text/plain": [
       "<matplotlib.figure.Figure at 0x10c6b3350>"
      ]
     },
     "metadata": {},
     "output_type": "display_data"
    }
   ],
   "source": [
    "time_vars = ['Weighted UniFrac timepoint distance', 'Unweighted UniFrac timepoint distance']\n",
    "melt_mf = pd.melt(mf, id_vars=['SURGERY_AND_IBD'], value_vars=time_vars, value_name='Distance',\n",
    "                  var_name='Metric')\n",
    "\n",
    "rep = {'SURGERY_AND_IBD': {'Crohns': 'CD', 'Crohns (surgery)': 'CD (surgery)'}}\n",
    "g = sns.factorplot(x='SURGERY_AND_IBD', y='Distance', col='Metric', data=melt_mf.replace(rep),\n",
    "                   sharey=False, kind='box', size=5.2)\n",
    "g.set_titles(template='{col_name}')\n",
    "g.set_xlabels('')\n",
    "g.savefig('analysis/beta/distributions-ibd-and-surgery/figure4.pdf')"
   ]
  },
  {
   "cell_type": "markdown",
   "metadata": {},
   "source": [
    "Writing out the mapping file with days since epoch:"
   ]
  },
  {
   "cell_type": "code",
   "execution_count": 6,
   "metadata": {
    "collapsed": false
   },
   "outputs": [],
   "source": [
    "mf.DAYS_SINCE_EPOCH = mf.DAYS_SINCE_EPOCH.astype(str, copy=True)\n",
    "mf['Weighted UniFrac timepoint distance'] = mf['Weighted UniFrac timepoint distance'].astype(str, copy=True)\n",
    "mf['Unweighted UniFrac timepoint distance'] = mf['Unweighted UniFrac timepoint distance'].astype(str, copy=True)\n",
    "\n",
    "write_mf('metadata-2/mapping_file.fixed.alpha.cleaned.cleaned.distances.txt', mf)"
   ]
  }
 ],
 "metadata": {
  "kernelspec": {
   "display_name": "Python 3",
   "language": "python",
   "name": "python3"
  },
  "language_info": {
   "codemirror_mode": {
    "name": "ipython",
    "version": 3
   },
   "file_extension": ".py",
   "mimetype": "text/x-python",
   "name": "python",
   "nbconvert_exporter": "python",
   "pygments_lexer": "ipython3",
   "version": "3.5.2"
  }
 },
 "nbformat": 4,
 "nbformat_minor": 0
}
